{
 "cells": [
  {
   "cell_type": "code",
   "execution_count": 1,
   "metadata": {},
   "outputs": [],
   "source": [
    "import pandas as pd\n",
    "import numpy as np"
   ]
  },
  {
   "cell_type": "code",
   "execution_count": 4,
   "metadata": {},
   "outputs": [
    {
     "name": "stdout",
     "output_type": "stream",
     "text": [
      "                Date                    Location  \\\n",
      "0    August 23, 2018       Lyon Inlet, Nunavut     \n",
      "1       July 3, 2018      Sentry Island, Nunavut   \n",
      "2       July 9, 1999  near Rankin Inlet, Nunavut   \n",
      "3   December 8, 1990           Point Lay, Alaska   \n",
      "4  November 29, 1983         Churchill, Manitoba   \n",
      "\n",
      "                                             Details   Bear   Latitude  \\\n",
      "0  Three men from Naujaat, whose boat had broken ...  Polar  66.534160   \n",
      "1  A polar bear approached a man and his children...  Polar  61.167230   \n",
      "2  Amitnak was mauled after trying to distract a ...  Polar  62.808913   \n",
      "3  While Stalker was walking with his girlfriend,...  Polar  69.742800   \n",
      "4  Mutanen was attacked and dragged on a street i...  Polar  58.767755   \n",
      "\n",
      "    Longitude            Name  Age   Gender  \n",
      "0  -83.882170   Darryl Kaunak   33     male  \n",
      "1  -93.850150   Aaron Gibbons   31     male  \n",
      "2  -92.087741  Hattie Amitnak   64   female  \n",
      "3 -163.011250    Carl Stalker   28     male  \n",
      "4  -94.163998  Thomas Mutanen   46     male  \n"
     ]
    }
   ],
   "source": [
    "df = pd.read_csv('C:/Users/britt/Documents/Python/data2-knowledge-checks/data_2_checks/data_2_checks/bear_attacks.csv')"
   ]
  },
  {
   "cell_type": "code",
   "execution_count": 5,
   "metadata": {},
   "outputs": [
    {
     "name": "stdout",
     "output_type": "stream",
     "text": [
      "(156, 9)\n"
     ]
    },
    {
     "data": {
      "text/html": [
       "<div>\n",
       "<style scoped>\n",
       "    .dataframe tbody tr th:only-of-type {\n",
       "        vertical-align: middle;\n",
       "    }\n",
       "\n",
       "    .dataframe tbody tr th {\n",
       "        vertical-align: top;\n",
       "    }\n",
       "\n",
       "    .dataframe thead th {\n",
       "        text-align: right;\n",
       "    }\n",
       "</style>\n",
       "<table border=\"1\" class=\"dataframe\">\n",
       "  <thead>\n",
       "    <tr style=\"text-align: right;\">\n",
       "      <th></th>\n",
       "      <th>Date</th>\n",
       "      <th>Location</th>\n",
       "      <th>Details</th>\n",
       "      <th>Bear</th>\n",
       "      <th>Latitude</th>\n",
       "      <th>Longitude</th>\n",
       "      <th>Name</th>\n",
       "      <th>Age</th>\n",
       "      <th>Gender</th>\n",
       "    </tr>\n",
       "  </thead>\n",
       "  <tbody>\n",
       "    <tr>\n",
       "      <th>0</th>\n",
       "      <td>August 23, 2018</td>\n",
       "      <td>Lyon Inlet, Nunavut</td>\n",
       "      <td>Three men from Naujaat, whose boat had broken ...</td>\n",
       "      <td>Polar</td>\n",
       "      <td>66.534160</td>\n",
       "      <td>-83.882170</td>\n",
       "      <td>Darryl Kaunak</td>\n",
       "      <td>33</td>\n",
       "      <td>male</td>\n",
       "    </tr>\n",
       "    <tr>\n",
       "      <th>1</th>\n",
       "      <td>July 3, 2018</td>\n",
       "      <td>Sentry Island, Nunavut</td>\n",
       "      <td>A polar bear approached a man and his children...</td>\n",
       "      <td>Polar</td>\n",
       "      <td>61.167230</td>\n",
       "      <td>-93.850150</td>\n",
       "      <td>Aaron Gibbons</td>\n",
       "      <td>31</td>\n",
       "      <td>male</td>\n",
       "    </tr>\n",
       "    <tr>\n",
       "      <th>2</th>\n",
       "      <td>July 9, 1999</td>\n",
       "      <td>near Rankin Inlet, Nunavut</td>\n",
       "      <td>Amitnak was mauled after trying to distract a ...</td>\n",
       "      <td>Polar</td>\n",
       "      <td>62.808913</td>\n",
       "      <td>-92.087741</td>\n",
       "      <td>Hattie Amitnak</td>\n",
       "      <td>64</td>\n",
       "      <td>female</td>\n",
       "    </tr>\n",
       "    <tr>\n",
       "      <th>3</th>\n",
       "      <td>December 8, 1990</td>\n",
       "      <td>Point Lay, Alaska</td>\n",
       "      <td>While Stalker was walking with his girlfriend,...</td>\n",
       "      <td>Polar</td>\n",
       "      <td>69.742800</td>\n",
       "      <td>-163.011250</td>\n",
       "      <td>Carl Stalker</td>\n",
       "      <td>28</td>\n",
       "      <td>male</td>\n",
       "    </tr>\n",
       "    <tr>\n",
       "      <th>4</th>\n",
       "      <td>November 29, 1983</td>\n",
       "      <td>Churchill, Manitoba</td>\n",
       "      <td>Mutanen was attacked and dragged on a street i...</td>\n",
       "      <td>Polar</td>\n",
       "      <td>58.767755</td>\n",
       "      <td>-94.163998</td>\n",
       "      <td>Thomas Mutanen</td>\n",
       "      <td>46</td>\n",
       "      <td>male</td>\n",
       "    </tr>\n",
       "  </tbody>\n",
       "</table>\n",
       "</div>"
      ],
      "text/plain": [
       "                Date                    Location  \\\n",
       "0    August 23, 2018       Lyon Inlet, Nunavut     \n",
       "1       July 3, 2018      Sentry Island, Nunavut   \n",
       "2       July 9, 1999  near Rankin Inlet, Nunavut   \n",
       "3   December 8, 1990           Point Lay, Alaska   \n",
       "4  November 29, 1983         Churchill, Manitoba   \n",
       "\n",
       "                                             Details   Bear   Latitude  \\\n",
       "0  Three men from Naujaat, whose boat had broken ...  Polar  66.534160   \n",
       "1  A polar bear approached a man and his children...  Polar  61.167230   \n",
       "2  Amitnak was mauled after trying to distract a ...  Polar  62.808913   \n",
       "3  While Stalker was walking with his girlfriend,...  Polar  69.742800   \n",
       "4  Mutanen was attacked and dragged on a street i...  Polar  58.767755   \n",
       "\n",
       "    Longitude            Name  Age   Gender  \n",
       "0  -83.882170   Darryl Kaunak   33     male  \n",
       "1  -93.850150   Aaron Gibbons   31     male  \n",
       "2  -92.087741  Hattie Amitnak   64   female  \n",
       "3 -163.011250    Carl Stalker   28     male  \n",
       "4  -94.163998  Thomas Mutanen   46     male  "
      ]
     },
     "execution_count": 5,
     "metadata": {},
     "output_type": "execute_result"
    }
   ],
   "source": [
    "print(df.shape)\n",
    "df.head()"
   ]
  },
  {
   "cell_type": "code",
   "execution_count": 6,
   "metadata": {},
   "outputs": [
    {
     "data": {
      "text/plain": [
       "Index(['Date', 'Location', 'Details', 'Bear', 'Latitude', 'Longitude', 'Name',\n",
       "       'Age', 'Gender'],\n",
       "      dtype='object')"
      ]
     },
     "execution_count": 6,
     "metadata": {},
     "output_type": "execute_result"
    }
   ],
   "source": [
    "df.columns"
   ]
  },
  {
   "cell_type": "markdown",
   "metadata": {},
   "source": [
    "I don't like the \"Age\" and \"Gender\" columns, because it's not clear if it's the age and gender of the bear or the human who was attacked. I am renaming to reflect that they are referencing the human."
   ]
  },
  {
   "cell_type": "code",
   "execution_count": 7,
   "metadata": {},
   "outputs": [
    {
     "data": {
      "text/plain": [
       "Index(['Date', 'Location', 'Details', 'Bear', 'Latitude', 'Longitude', 'Name',\n",
       "       'Age_human', 'Gender_human'],\n",
       "      dtype='object')"
      ]
     },
     "execution_count": 7,
     "metadata": {},
     "output_type": "execute_result"
    }
   ],
   "source": [
    "fixed_columns ={\n",
    "    'Date':'Date',\n",
    "    'Location':'Location',\n",
    "    'Details':'Details',\n",
    "    'Bear':'Bear',\n",
    "    'Latitude':'Latitude',\n",
    "    'Longitude':'Longitude',\n",
    "    'Name':'Name',\n",
    "    'Age':'Age_human',\n",
    "    'Gender':'Gender_human'\n",
    "}\n",
    "\n",
    "df.rename(columns=fixed_columns,inplace=True)\n",
    "df.columns"
   ]
  },
  {
   "cell_type": "markdown",
   "metadata": {},
   "source": [
    "Below, I'm checking for any missing values in the dataset, across all rows. "
   ]
  },
  {
   "cell_type": "code",
   "execution_count": 20,
   "metadata": {},
   "outputs": [
    {
     "name": "stdout",
     "output_type": "stream",
     "text": [
      "Count of missing values: 3\n",
      "                                    Date         Location  \\\n",
      "144  Unknown date prior to February 1914  Helena, Montana   \n",
      "\n",
      "                                               Details   Bear  Latitude  \\\n",
      "144  On February 14, 1914 in the mountains at Jacks...  Brown  46.58976   \n",
      "\n",
      "     Longitude Name Age_human Gender_human  \n",
      "144 -112.02065  NaN       NaN          NaN  \n"
     ]
    }
   ],
   "source": [
    "count_nan = df.isnull().sum().sum()\n",
    "print('Count of missing values: ' + str(count_nan))\n",
    "\n",
    "nan_rows = df.loc[df.isna().any(axis=1)]\n",
    "print(nan_rows)"
   ]
  },
  {
   "cell_type": "markdown",
   "metadata": {},
   "source": [
    "This tells us that there are 3 missing values in the dataset and that they are all in the same row, Row 114. This observation is missing information on the human who was attacked (Name, Age_human and Gender_human). I will drop this data point since it is missing information."
   ]
  },
  {
   "cell_type": "code",
   "execution_count": 24,
   "metadata": {},
   "outputs": [
    {
     "data": {
      "text/html": [
       "<div>\n",
       "<style scoped>\n",
       "    .dataframe tbody tr th:only-of-type {\n",
       "        vertical-align: middle;\n",
       "    }\n",
       "\n",
       "    .dataframe tbody tr th {\n",
       "        vertical-align: top;\n",
       "    }\n",
       "\n",
       "    .dataframe thead th {\n",
       "        text-align: right;\n",
       "    }\n",
       "</style>\n",
       "<table border=\"1\" class=\"dataframe\">\n",
       "  <thead>\n",
       "    <tr style=\"text-align: right;\">\n",
       "      <th></th>\n",
       "      <th>Date</th>\n",
       "      <th>Location</th>\n",
       "      <th>Details</th>\n",
       "      <th>Bear</th>\n",
       "      <th>Latitude</th>\n",
       "      <th>Longitude</th>\n",
       "      <th>Name</th>\n",
       "      <th>Age_human</th>\n",
       "      <th>Gender_human</th>\n",
       "    </tr>\n",
       "  </thead>\n",
       "  <tbody>\n",
       "    <tr>\n",
       "      <th>0</th>\n",
       "      <td>August 23, 2018</td>\n",
       "      <td>Lyon Inlet, Nunavut</td>\n",
       "      <td>Three men from Naujaat, whose boat had broken ...</td>\n",
       "      <td>Polar</td>\n",
       "      <td>66.534160</td>\n",
       "      <td>-83.882170</td>\n",
       "      <td>Darryl Kaunak</td>\n",
       "      <td>33</td>\n",
       "      <td>male</td>\n",
       "    </tr>\n",
       "    <tr>\n",
       "      <th>1</th>\n",
       "      <td>July 3, 2018</td>\n",
       "      <td>Sentry Island, Nunavut</td>\n",
       "      <td>A polar bear approached a man and his children...</td>\n",
       "      <td>Polar</td>\n",
       "      <td>61.167230</td>\n",
       "      <td>-93.850150</td>\n",
       "      <td>Aaron Gibbons</td>\n",
       "      <td>31</td>\n",
       "      <td>male</td>\n",
       "    </tr>\n",
       "    <tr>\n",
       "      <th>2</th>\n",
       "      <td>July 9, 1999</td>\n",
       "      <td>near Rankin Inlet, Nunavut</td>\n",
       "      <td>Amitnak was mauled after trying to distract a ...</td>\n",
       "      <td>Polar</td>\n",
       "      <td>62.808913</td>\n",
       "      <td>-92.087741</td>\n",
       "      <td>Hattie Amitnak</td>\n",
       "      <td>64</td>\n",
       "      <td>female</td>\n",
       "    </tr>\n",
       "    <tr>\n",
       "      <th>3</th>\n",
       "      <td>December 8, 1990</td>\n",
       "      <td>Point Lay, Alaska</td>\n",
       "      <td>While Stalker was walking with his girlfriend,...</td>\n",
       "      <td>Polar</td>\n",
       "      <td>69.742800</td>\n",
       "      <td>-163.011250</td>\n",
       "      <td>Carl Stalker</td>\n",
       "      <td>28</td>\n",
       "      <td>male</td>\n",
       "    </tr>\n",
       "    <tr>\n",
       "      <th>4</th>\n",
       "      <td>November 29, 1983</td>\n",
       "      <td>Churchill, Manitoba</td>\n",
       "      <td>Mutanen was attacked and dragged on a street i...</td>\n",
       "      <td>Polar</td>\n",
       "      <td>58.767755</td>\n",
       "      <td>-94.163998</td>\n",
       "      <td>Thomas Mutanen</td>\n",
       "      <td>46</td>\n",
       "      <td>male</td>\n",
       "    </tr>\n",
       "    <tr>\n",
       "      <th>...</th>\n",
       "      <td>...</td>\n",
       "      <td>...</td>\n",
       "      <td>...</td>\n",
       "      <td>...</td>\n",
       "      <td>...</td>\n",
       "      <td>...</td>\n",
       "      <td>...</td>\n",
       "      <td>...</td>\n",
       "      <td>...</td>\n",
       "    </tr>\n",
       "    <tr>\n",
       "      <th>151</th>\n",
       "      <td>1855</td>\n",
       "      <td>Sierra Nevada, California</td>\n",
       "      <td>A professional trapper and trainer of wild ani...</td>\n",
       "      <td>Brown</td>\n",
       "      <td>36.578550</td>\n",
       "      <td>-118.293420</td>\n",
       "      <td>John \"Grizzly\" Adams</td>\n",
       "      <td>43</td>\n",
       "      <td>male</td>\n",
       "    </tr>\n",
       "    <tr>\n",
       "      <th>152</th>\n",
       "      <td>December 19, 1853</td>\n",
       "      <td>Santa Monica, California</td>\n",
       "      <td>An experienced bear hunter who hunted and kill...</td>\n",
       "      <td>Brown</td>\n",
       "      <td>34.011580</td>\n",
       "      <td>-118.492270</td>\n",
       "      <td>Andrew Whitley \"Andy\" Sublette</td>\n",
       "      <td>46</td>\n",
       "      <td>male</td>\n",
       "    </tr>\n",
       "    <tr>\n",
       "      <th>153</th>\n",
       "      <td>October 27, 1854</td>\n",
       "      <td>Mount San Antonio, California</td>\n",
       "      <td>A trapper and hunter who hunted grizzly bears ...</td>\n",
       "      <td>Brown</td>\n",
       "      <td>34.288890</td>\n",
       "      <td>-117.646720</td>\n",
       "      <td>Isaac Slover</td>\n",
       "      <td>68</td>\n",
       "      <td>male</td>\n",
       "    </tr>\n",
       "    <tr>\n",
       "      <th>154</th>\n",
       "      <td>Circa 1850</td>\n",
       "      <td>Russian River, California</td>\n",
       "      <td>While hunting grizzly bears, he blundered into...</td>\n",
       "      <td>Brown</td>\n",
       "      <td>38.450470</td>\n",
       "      <td>-123.129450</td>\n",
       "      <td>Jim Boggs</td>\n",
       "      <td>?</td>\n",
       "      <td>male</td>\n",
       "    </tr>\n",
       "    <tr>\n",
       "      <th>155</th>\n",
       "      <td>October 17, 1837</td>\n",
       "      <td>Fort Tejon, California</td>\n",
       "      <td>Lebec was out hunting grizzlies. He dispatched...</td>\n",
       "      <td>Brown</td>\n",
       "      <td>34.874040</td>\n",
       "      <td>-118.891690</td>\n",
       "      <td>Peter Lebec</td>\n",
       "      <td>?</td>\n",
       "      <td>male</td>\n",
       "    </tr>\n",
       "  </tbody>\n",
       "</table>\n",
       "<p>155 rows × 9 columns</p>\n",
       "</div>"
      ],
      "text/plain": [
       "                  Date                       Location  \\\n",
       "0      August 23, 2018          Lyon Inlet, Nunavut     \n",
       "1         July 3, 2018         Sentry Island, Nunavut   \n",
       "2         July 9, 1999     near Rankin Inlet, Nunavut   \n",
       "3     December 8, 1990              Point Lay, Alaska   \n",
       "4    November 29, 1983            Churchill, Manitoba   \n",
       "..                 ...                            ...   \n",
       "151               1855      Sierra Nevada, California   \n",
       "152  December 19, 1853       Santa Monica, California   \n",
       "153   October 27, 1854  Mount San Antonio, California   \n",
       "154         Circa 1850      Russian River, California   \n",
       "155   October 17, 1837         Fort Tejon, California   \n",
       "\n",
       "                                               Details   Bear   Latitude  \\\n",
       "0    Three men from Naujaat, whose boat had broken ...  Polar  66.534160   \n",
       "1    A polar bear approached a man and his children...  Polar  61.167230   \n",
       "2    Amitnak was mauled after trying to distract a ...  Polar  62.808913   \n",
       "3    While Stalker was walking with his girlfriend,...  Polar  69.742800   \n",
       "4    Mutanen was attacked and dragged on a street i...  Polar  58.767755   \n",
       "..                                                 ...    ...        ...   \n",
       "151  A professional trapper and trainer of wild ani...  Brown  36.578550   \n",
       "152  An experienced bear hunter who hunted and kill...  Brown  34.011580   \n",
       "153  A trapper and hunter who hunted grizzly bears ...  Brown  34.288890   \n",
       "154  While hunting grizzly bears, he blundered into...  Brown  38.450470   \n",
       "155  Lebec was out hunting grizzlies. He dispatched...  Brown  34.874040   \n",
       "\n",
       "      Longitude                            Name Age_human Gender_human  \n",
       "0    -83.882170                   Darryl Kaunak        33         male  \n",
       "1    -93.850150                   Aaron Gibbons        31         male  \n",
       "2    -92.087741                  Hattie Amitnak        64       female  \n",
       "3   -163.011250                    Carl Stalker        28         male  \n",
       "4    -94.163998                  Thomas Mutanen        46         male  \n",
       "..          ...                             ...       ...          ...  \n",
       "151 -118.293420            John \"Grizzly\" Adams        43         male  \n",
       "152 -118.492270  Andrew Whitley \"Andy\" Sublette        46         male  \n",
       "153 -117.646720                    Isaac Slover        68         male  \n",
       "154 -123.129450                       Jim Boggs         ?         male  \n",
       "155 -118.891690                     Peter Lebec         ?         male  \n",
       "\n",
       "[155 rows x 9 columns]"
      ]
     },
     "execution_count": 24,
     "metadata": {},
     "output_type": "execute_result"
    }
   ],
   "source": [
    "df.dropna()\n"
   ]
  },
  {
   "cell_type": "markdown",
   "metadata": {},
   "source": [
    "We can confirm that the row was dropped by comparing the number of rows from the original df.shape earlier in the code (156) to the number of rows now included (155 rows), as listed above."
   ]
  }
 ],
 "metadata": {
  "interpreter": {
   "hash": "bac4e17d0ad652fe572f7303b15392f2c4cb3e88fc6e44da7a2e494303c18aa2"
  },
  "kernelspec": {
   "display_name": "Python 3.10.1 64-bit",
   "language": "python",
   "name": "python3"
  },
  "language_info": {
   "codemirror_mode": {
    "name": "ipython",
    "version": 3
   },
   "file_extension": ".py",
   "mimetype": "text/x-python",
   "name": "python",
   "nbconvert_exporter": "python",
   "pygments_lexer": "ipython3",
   "version": "3.10.1"
  },
  "orig_nbformat": 4
 },
 "nbformat": 4,
 "nbformat_minor": 2
}
